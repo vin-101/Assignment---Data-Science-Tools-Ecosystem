{
 "cells": [
  {
   "cell_type": "markdown",
   "id": "41ecd293-d6f8-4dc9-b5a6-2f3e0fbe7194",
   "metadata": {},
   "source": [
    "# Data Science Tools and Ecosystem"
   ]
  },
  {
   "cell_type": "markdown",
   "id": "7d958f9e-d609-4abd-8c1d-df1b562853ca",
   "metadata": {},
   "source": [
    "In this notebook, Data ScSome of the popular languages that Data Scientists use are:ience Tools and Ecosystem are summarized."
   ]
  },
  {
   "cell_type": "markdown",
   "id": "7f0043e4-92bd-413f-aed8-461ec039800d",
   "metadata": {},
   "source": [
    "**Objectives**\n",
    "* List of popular languages used in Data Science\n",
    "* List of commonly used libraries for Data Science\n",
    "* Table showing some Data Science tools\n",
    "* Examples of Arithmetic Expressions"
   ]
  },
  {
   "cell_type": "markdown",
   "id": "9f79cba2-db29-4fcd-bacb-f0cf34222f96",
   "metadata": {},
   "source": [
    "Some of the popular languages that Data Scientists use are:\n",
    "1. Python\n",
    "2. R\n",
    "3. Julia\n",
    "4. Scala"
   ]
  },
  {
   "cell_type": "markdown",
   "id": "feec6eca-e968-4992-8eba-87f4a85d10f9",
   "metadata": {},
   "source": [
    "Some of the commonly used libraries used by Data Scientists include:\n",
    "1. Pandas\n",
    "2. Seaborn\n",
    "3. ggplot2\n",
    "4. Sci-kit Learn"
   ]
  },
  {
   "cell_type": "markdown",
   "id": "5bdc54f1-b034-4e10-b8c7-5a05c6037d63",
   "metadata": {},
   "source": [
    "|Data Science Tools|\n",
    "|:----------------:|\n",
    "|Apache Spark|\n",
    "|Jupyter Notebook|\n",
    "|R|"
   ]
  },
  {
   "cell_type": "markdown",
   "id": "aebcc77e-1a5d-4668-aabe-f9d98b9efdc1",
   "metadata": {},
   "source": [
    "### Below are a few examples of evaluating arithmetic expressions in Python"
   ]
  },
  {
   "cell_type": "code",
   "execution_count": 15,
   "id": "cf493ed5-1446-475f-8d4a-6f14b1510e0f",
   "metadata": {
    "tags": []
   },
   "outputs": [
    {
     "data": {
      "text/plain": [
       "17"
      ]
     },
     "execution_count": 15,
     "metadata": {},
     "output_type": "execute_result"
    }
   ],
   "source": [
    "#This a simple arithmetic expression to mutiply then add integers\n",
    "(3*4)+5"
   ]
  },
  {
   "cell_type": "code",
   "execution_count": 17,
   "id": "b84971d0-da60-45a1-bf9b-aa9dce97df3b",
   "metadata": {
    "tags": []
   },
   "outputs": [
    {
     "data": {
      "text/plain": [
       "3.3333333333333335"
      ]
     },
     "execution_count": 17,
     "metadata": {},
     "output_type": "execute_result"
    }
   ],
   "source": [
    "#This will convert 200 minutes to hours by diving by 60\n",
    "200/60"
   ]
  },
  {
   "cell_type": "markdown",
   "id": "fc735802-4729-4435-b419-ea5a7d3a8dae",
   "metadata": {},
   "source": [
    "## Author\n",
    "Vinesh Gajjar"
   ]
  },
  {
   "cell_type": "code",
   "execution_count": null,
   "id": "601d809a-5a14-47b1-91d5-5139168d2cb3",
   "metadata": {},
   "outputs": [],
   "source": []
  }
 ],
 "metadata": {
  "kernelspec": {
   "display_name": "Python 3 (ipykernel)",
   "language": "python",
   "name": "python3"
  },
  "language_info": {
   "codemirror_mode": {
    "name": "ipython",
    "version": 3
   },
   "file_extension": ".py",
   "mimetype": "text/x-python",
   "name": "python",
   "nbconvert_exporter": "python",
   "pygments_lexer": "ipython3",
   "version": "3.11.5"
  }
 },
 "nbformat": 4,
 "nbformat_minor": 5
}
